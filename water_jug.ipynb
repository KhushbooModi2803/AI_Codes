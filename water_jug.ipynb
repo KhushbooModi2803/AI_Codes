{
 "cells": [
  {
   "cell_type": "code",
   "execution_count": null,
   "metadata": {},
   "outputs": [],
   "source": [
    "def water_jug_problem(jug1_cap, jug2_cap, target_amount):    \n",
    "    j1 = 0  \n",
    "    j2 = 0  \n",
    "    actions = [(\"fill\", 1), (\"fill\", 2), (\"empty\", 1), (\"empty\", 2), (\"pour\", 1, 2), (\"pour\", 2, 1)]     \n",
    "    visited = set()    \n",
    "    queue = [(j1, j2, [])]  \n",
    "    while queue:    \n",
    "        j1, j2, seq = queue.pop(0)    \n",
    "        if (j1, j2) not in visited:  \n",
    "            visited.add((j1, j2))   \n",
    "            if j1 == target_amount:  \n",
    "                return seq  \n",
    "          \n",
    "            for action in actions:  \n",
    "                if action[0] == \"fill\":  \n",
    "                    if action[1] == 1:  \n",
    "                        next_state = (jug1_cap, j2)  \n",
    "                    else:  \n",
    "                        next_state = (j1, jug2_cap)  \n",
    "                elif action[0] == \"empty\":  \n",
    "                    if action[1] == 1:  \n",
    "                        next_state = (0, j2)  \n",
    "                    else:  \n",
    "                        next_state = (j1, 0)  \n",
    "                else:  \n",
    "                    if action[1] == 1:  \n",
    "                        amount = min(j1, jug2_cap - j2)  \n",
    "                        next_state = (j1 - amount, j2 + amount)  \n",
    "                    else:  \n",
    "                        amount = min(j2, jug1_cap - j1)  \n",
    "                        next_state = (j1 + amount, j2 - amount)  \n",
    "                 \n",
    "                if next_state not in visited:  \n",
    "                    next_seq = seq + [action]  \n",
    "                    queue.append((next_state[0], next_state[1], next_seq))  \n",
    "    \n",
    "    return None  \n",
    "result = water_jug_problem(5, 3, 2)  \n",
    "print(result)"
   ]
  }
 ],
 "metadata": {
  "language_info": {
   "name": "python"
  }
 },
 "nbformat": 4,
 "nbformat_minor": 2
}
