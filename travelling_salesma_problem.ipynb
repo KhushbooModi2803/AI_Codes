{
 "cells": [
  {
   "cell_type": "code",
   "execution_count": null,
   "metadata": {},
   "outputs": [],
   "source": [
    "# Python3 program to implement traveling salesman \n",
    "# problem using naive approach. \n",
    "from sys import maxsize \n",
    "from itertools import permutations\n",
    "V = 4\n",
    "\n",
    "# implementation of traveling Salesman Problem \n",
    "def travellingSalesmanProblem(graph, s): \n",
    "\n",
    "\t# store all vertex apart from source vertex \n",
    "\tvertex = [] \n",
    "\tfor i in range(V): \n",
    "\t\tif i != s: \n",
    "\t\t\tvertex.append(i) \n",
    "\n",
    "\t# store minimum weight Hamiltonian Cycle \n",
    "\tmin_path = maxsize \n",
    "\tnext_permutation=permutations(vertex)\n",
    "\tfor i in next_permutation:\n",
    "\n",
    "\t\t# store current Path weight(cost) \n",
    "\t\tcurrent_pathweight = 0\n",
    "\n",
    "\t\t# compute current path weight \n",
    "\t\tk = s \n",
    "\t\tfor j in i: \n",
    "\t\t\tcurrent_pathweight += graph[k][j] \n",
    "\t\t\tk = j \n",
    "\t\tcurrent_pathweight += graph[k][s] \n",
    "\n",
    "\t\t# update minimum \n",
    "\t\tmin_path = min(min_path, current_pathweight) \n",
    "\t\t\n",
    "\treturn min_path \n",
    "\n",
    "\n",
    "# Driver Code \n",
    "if __name__ == \"__main__\": \n",
    "\n",
    "\t# matrix representation of graph \n",
    "\tgraph = [[0, 10, 15, 20], [10, 0, 35, 25], \n",
    "\t\t\t[15, 35, 0, 30], [20, 25, 30, 0]] \n",
    "\ts = 0\n",
    "\tprint(travellingSalesmanProblem(graph, s))\n"
   ]
  }
 ],
 "metadata": {
  "language_info": {
   "name": "python"
  }
 },
 "nbformat": 4,
 "nbformat_minor": 2
}
