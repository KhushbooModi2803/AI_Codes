{
 "cells": [
  {
   "cell_type": "code",
   "execution_count": null,
   "metadata": {},
   "outputs": [],
   "source": [
    "## iterative deepening\n",
    "def solve_iddfs(initial_state, goal_state, max_depth):\n",
    "    for depth_limit in range(max_depth):\n",
    "        result = iddfs_recursive(initial_state, goal_state, depth_limit)\n",
    "        if result is not None:\n",
    "            return result\n",
    "    return None\n",
    "def is_goal(state, goal):\n",
    "    return state == goal\n",
    "\n",
    "def iddfs_recursive(state, goal, depth_limit):\n",
    "    stack = [(state, 0)]\n",
    "    visited = set()\n",
    "\n",
    "    while stack:\n",
    "        state, depth = stack.pop()\n",
    "        visited.add(state)\n",
    "\n",
    "        print(\"Current state:\", state)\n",
    "\n",
    "        if depth > depth_limit:\n",
    "            continue\n",
    "\n",
    "        if isgoal(state, goal):\n",
    "            return state\n",
    "\n",
    "        if depth < depth_limit:\n",
    "            for child in getchildren(state):\n",
    "                if child not in visited:\n",
    "                    stack.append((child, depth + 1))\n",
    "                    visited.add(child)\n",
    "\n",
    "    return None\n",
    "\n",
    "# Example usage:\n",
    "initial_state = (('A', None), ('B', None), ('C', 'B'))\n",
    "goal_state = (('A', None), ('B', 'A'), ('C', 'B'))\n",
    "max_depth = 10  # Set an appropriate maximum depth limit\n",
    "\n",
    "solution = solve_iddfs(initial_state, goal_state, max_depth)\n",
    "\n",
    "if solution:\n",
    "    print(\"Solution found:\", solution)\n",
    "else:\n",
    "    print(\"No solution found.\")"
   ]
  }
 ],
 "metadata": {
  "language_info": {
   "name": "python"
  }
 },
 "nbformat": 4,
 "nbformat_minor": 2
}
